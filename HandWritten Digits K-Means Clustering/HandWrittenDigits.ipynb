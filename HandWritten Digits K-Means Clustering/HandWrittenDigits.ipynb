{
 "cells": [
  {
   "cell_type": "code",
   "execution_count": 6,
   "metadata": {},
   "outputs": [],
   "source": [
    "import numpy as np\n",
    "import sklearn\n",
    "from sklearn.preprocessing import scale\n",
    "from sklearn.datasets import load_digits\n",
    "from sklearn.cluster import KMeans\n",
    "from sklearn import metrics"
   ]
  },
  {
   "cell_type": "code",
   "execution_count": 3,
   "metadata": {},
   "outputs": [],
   "source": [
    "digits = load_digits()\n",
    "\n",
    "#scale the data to a value between 0 and 1 (usually possibily an rgb value)\n",
    "data = scale(digits.data)"
   ]
  },
  {
   "cell_type": "code",
   "execution_count": 10,
   "metadata": {},
   "outputs": [
    {
     "name": "stdout",
     "output_type": "stream",
     "text": [
      "1797 64\n"
     ]
    }
   ],
   "source": [
    "y = digits.target\n",
    "\n",
    "#dynamic value for number of clusters\n",
    "k = len(np.unique(y))\n",
    "\n",
    "samples, features = data.shape\n",
    "print(samples, features)"
   ]
  },
  {
   "cell_type": "code",
   "execution_count": 13,
   "metadata": {},
   "outputs": [],
   "source": [
    "#Some complicated scoring method fir KMeans\n",
    "def bench_k_means(estimator, name, data):\n",
    "    estimator.fit(data)\n",
    "\n",
    "    print((name, estimator.inertia_,\n",
    "           metrics.homogeneity_score(y, estimator.labels_),\n",
    "           metrics.completeness_score(y, estimator.labels_),\n",
    "           metrics.v_measure_score(y, estimator.labels_),\n",
    "           metrics.adjusted_rand_score(y, estimator.labels_),\n",
    "           metrics.adjusted_mutual_info_score(y, estimator.labels_),\n",
    "           metrics.silhouette_score(data, estimator.labels_, metric='euclidean')\n",
    "          ))"
   ]
  },
  {
   "cell_type": "code",
   "execution_count": 14,
   "metadata": {},
   "outputs": [
    {
     "name": "stdout",
     "output_type": "stream",
     "text": [
      "('1', 69405.27404477293, 0.6043067014614456, 0.652328236139029, 0.6273999120286606, 0.4688711695390945, 0.6234810795370297, 0.14616225341049888)\n"
     ]
    }
   ],
   "source": [
    "#No of clusters (classes)\n",
    "#Intial position\n",
    "clf = KMeans(n_clusters=k, init='random', n_init=k)\n",
    "\n",
    "bench_k_means(clf, \"1\", data)"
   ]
  }
 ],
 "metadata": {
  "kernelspec": {
   "display_name": "Python 3",
   "language": "python",
   "name": "python3"
  },
  "language_info": {
   "codemirror_mode": {
    "name": "ipython",
    "version": 3
   },
   "file_extension": ".py",
   "mimetype": "text/x-python",
   "name": "python",
   "nbconvert_exporter": "python",
   "pygments_lexer": "ipython3",
   "version": "3.7.4"
  }
 },
 "nbformat": 4,
 "nbformat_minor": 4
}
