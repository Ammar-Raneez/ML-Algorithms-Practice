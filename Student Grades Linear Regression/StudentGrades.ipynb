{
 "cells": [
  {
   "cell_type": "code",
   "execution_count": 49,
   "metadata": {},
   "outputs": [],
   "source": [
    "import pandas as pd\n",
    "import numpy as np\n",
    "import sklearn\n",
    "from sklearn import linear_model\n",
    "from sklearn.utils import shuffle"
   ]
  },
  {
   "cell_type": "code",
   "execution_count": 50,
   "metadata": {},
   "outputs": [
    {
     "data": {
      "text/html": [
       "<div>\n",
       "<style scoped>\n",
       "    .dataframe tbody tr th:only-of-type {\n",
       "        vertical-align: middle;\n",
       "    }\n",
       "\n",
       "    .dataframe tbody tr th {\n",
       "        vertical-align: top;\n",
       "    }\n",
       "\n",
       "    .dataframe thead th {\n",
       "        text-align: right;\n",
       "    }\n",
       "</style>\n",
       "<table border=\"1\" class=\"dataframe\">\n",
       "  <thead>\n",
       "    <tr style=\"text-align: right;\">\n",
       "      <th></th>\n",
       "      <th>school</th>\n",
       "      <th>sex</th>\n",
       "      <th>age</th>\n",
       "      <th>address</th>\n",
       "      <th>famsize</th>\n",
       "      <th>Pstatus</th>\n",
       "      <th>Medu</th>\n",
       "      <th>Fedu</th>\n",
       "      <th>Mjob</th>\n",
       "      <th>Fjob</th>\n",
       "      <th>...</th>\n",
       "      <th>famrel</th>\n",
       "      <th>freetime</th>\n",
       "      <th>goout</th>\n",
       "      <th>Dalc</th>\n",
       "      <th>Walc</th>\n",
       "      <th>health</th>\n",
       "      <th>absences</th>\n",
       "      <th>G1</th>\n",
       "      <th>G2</th>\n",
       "      <th>G3</th>\n",
       "    </tr>\n",
       "  </thead>\n",
       "  <tbody>\n",
       "    <tr>\n",
       "      <th>0</th>\n",
       "      <td>GP</td>\n",
       "      <td>F</td>\n",
       "      <td>18</td>\n",
       "      <td>U</td>\n",
       "      <td>GT3</td>\n",
       "      <td>A</td>\n",
       "      <td>4</td>\n",
       "      <td>4</td>\n",
       "      <td>at_home</td>\n",
       "      <td>teacher</td>\n",
       "      <td>...</td>\n",
       "      <td>4</td>\n",
       "      <td>3</td>\n",
       "      <td>4</td>\n",
       "      <td>1</td>\n",
       "      <td>1</td>\n",
       "      <td>3</td>\n",
       "      <td>6</td>\n",
       "      <td>5</td>\n",
       "      <td>6</td>\n",
       "      <td>6</td>\n",
       "    </tr>\n",
       "    <tr>\n",
       "      <th>1</th>\n",
       "      <td>GP</td>\n",
       "      <td>F</td>\n",
       "      <td>17</td>\n",
       "      <td>U</td>\n",
       "      <td>GT3</td>\n",
       "      <td>T</td>\n",
       "      <td>1</td>\n",
       "      <td>1</td>\n",
       "      <td>at_home</td>\n",
       "      <td>other</td>\n",
       "      <td>...</td>\n",
       "      <td>5</td>\n",
       "      <td>3</td>\n",
       "      <td>3</td>\n",
       "      <td>1</td>\n",
       "      <td>1</td>\n",
       "      <td>3</td>\n",
       "      <td>4</td>\n",
       "      <td>5</td>\n",
       "      <td>5</td>\n",
       "      <td>6</td>\n",
       "    </tr>\n",
       "    <tr>\n",
       "      <th>2</th>\n",
       "      <td>GP</td>\n",
       "      <td>F</td>\n",
       "      <td>15</td>\n",
       "      <td>U</td>\n",
       "      <td>LE3</td>\n",
       "      <td>T</td>\n",
       "      <td>1</td>\n",
       "      <td>1</td>\n",
       "      <td>at_home</td>\n",
       "      <td>other</td>\n",
       "      <td>...</td>\n",
       "      <td>4</td>\n",
       "      <td>3</td>\n",
       "      <td>2</td>\n",
       "      <td>2</td>\n",
       "      <td>3</td>\n",
       "      <td>3</td>\n",
       "      <td>10</td>\n",
       "      <td>7</td>\n",
       "      <td>8</td>\n",
       "      <td>10</td>\n",
       "    </tr>\n",
       "    <tr>\n",
       "      <th>3</th>\n",
       "      <td>GP</td>\n",
       "      <td>F</td>\n",
       "      <td>15</td>\n",
       "      <td>U</td>\n",
       "      <td>GT3</td>\n",
       "      <td>T</td>\n",
       "      <td>4</td>\n",
       "      <td>2</td>\n",
       "      <td>health</td>\n",
       "      <td>services</td>\n",
       "      <td>...</td>\n",
       "      <td>3</td>\n",
       "      <td>2</td>\n",
       "      <td>2</td>\n",
       "      <td>1</td>\n",
       "      <td>1</td>\n",
       "      <td>5</td>\n",
       "      <td>2</td>\n",
       "      <td>15</td>\n",
       "      <td>14</td>\n",
       "      <td>15</td>\n",
       "    </tr>\n",
       "    <tr>\n",
       "      <th>4</th>\n",
       "      <td>GP</td>\n",
       "      <td>F</td>\n",
       "      <td>16</td>\n",
       "      <td>U</td>\n",
       "      <td>GT3</td>\n",
       "      <td>T</td>\n",
       "      <td>3</td>\n",
       "      <td>3</td>\n",
       "      <td>other</td>\n",
       "      <td>other</td>\n",
       "      <td>...</td>\n",
       "      <td>4</td>\n",
       "      <td>3</td>\n",
       "      <td>2</td>\n",
       "      <td>1</td>\n",
       "      <td>2</td>\n",
       "      <td>5</td>\n",
       "      <td>4</td>\n",
       "      <td>6</td>\n",
       "      <td>10</td>\n",
       "      <td>10</td>\n",
       "    </tr>\n",
       "  </tbody>\n",
       "</table>\n",
       "<p>5 rows × 33 columns</p>\n",
       "</div>"
      ],
      "text/plain": [
       "  school sex  age address famsize Pstatus  Medu  Fedu     Mjob      Fjob  ...  \\\n",
       "0     GP   F   18       U     GT3       A     4     4  at_home   teacher  ...   \n",
       "1     GP   F   17       U     GT3       T     1     1  at_home     other  ...   \n",
       "2     GP   F   15       U     LE3       T     1     1  at_home     other  ...   \n",
       "3     GP   F   15       U     GT3       T     4     2   health  services  ...   \n",
       "4     GP   F   16       U     GT3       T     3     3    other     other  ...   \n",
       "\n",
       "  famrel freetime  goout  Dalc  Walc health absences  G1  G2  G3  \n",
       "0      4        3      4     1     1      3        6   5   6   6  \n",
       "1      5        3      3     1     1      3        4   5   5   6  \n",
       "2      4        3      2     2     3      3       10   7   8  10  \n",
       "3      3        2      2     1     1      5        2  15  14  15  \n",
       "4      4        3      2     1     2      5        4   6  10  10  \n",
       "\n",
       "[5 rows x 33 columns]"
      ]
     },
     "execution_count": 50,
     "metadata": {},
     "output_type": "execute_result"
    }
   ],
   "source": [
    "#crazy data separated with semicolons for some reason, tho its called \"comma\" separated values\n",
    "data = pd.read_csv(\"student-mat.csv\", sep=\";\")\n",
    "data.head()"
   ]
  },
  {
   "cell_type": "code",
   "execution_count": 51,
   "metadata": {},
   "outputs": [
    {
     "name": "stdout",
     "output_type": "stream",
     "text": [
      "(395, 5)\n"
     ]
    }
   ],
   "source": [
    "data = data[[\"G1\", \"G2\", \"G3\", \"studytime\", \"failures\"]]\n",
    "#gonna use the data to predict value of G3\n",
    "predict = \"G3\"\n",
    "print(data.shape)"
   ]
  },
  {
   "cell_type": "code",
   "execution_count": 52,
   "metadata": {},
   "outputs": [
    {
     "name": "stdout",
     "output_type": "stream",
     "text": [
      "(395, 4)\n",
      "(395,)\n"
     ]
    }
   ],
   "source": [
    "#splitting the data into X and Y, Y being the final grade G3\n",
    "#X being the input values we'll use to train the model to predict G3\n",
    "X = np.array(data.drop([predict], 1))\n",
    "Y = np.array(data[predict])\n",
    "print(X.shape)\n",
    "print(Y.shape)"
   ]
  },
  {
   "cell_type": "code",
   "execution_count": 53,
   "metadata": {},
   "outputs": [],
   "source": [
    "#split data into training and test sets\n",
    "X_train, X_test, y_train, y_test = sklearn.model_selection.train_test_split(X, Y, test_size=0.1)"
   ]
  },
  {
   "cell_type": "code",
   "execution_count": 54,
   "metadata": {},
   "outputs": [],
   "source": [
    "# #linear regression model instantiated\n",
    "# linear_regression = linear_model.LinearRegression()\n",
    "\n",
    "# #fit x and y training values to get best fit\n",
    "# linear_regression.fit(X_train, y_train)\n",
    "\n",
    "# #accuracy of test sets\n",
    "# accuracy = linear_regression.score(X_test, y_test)\n",
    "# print(accuracy)"
   ]
  },
  {
   "cell_type": "code",
   "execution_count": 55,
   "metadata": {},
   "outputs": [],
   "source": [
    "# #Coefficients for each x input (g1, g2, studytime, failures)\n",
    "# print(\"Coefficient:\", linear_regression.coef_)\n",
    "# print(\"Intercept:\", linear_regression.intercept_)"
   ]
  },
  {
   "cell_type": "code",
   "execution_count": 56,
   "metadata": {},
   "outputs": [],
   "source": [
    "#predicted value [the 4 x values used for prediction] the ground truth\n",
    "# predictions = linear_regression.predict(X_test)\n",
    "# for i in range(len(predictions)):\n",
    "#     print(predictions[i], X_test[i], y_test[i])\n",
    "\n",
    "#an actual prediction\n",
    "# test_value = [[17, 17, 4, 0]]\n",
    "#ground truth => 18\n",
    "#Predicted value => 17.3\n",
    "# print(linear_regression.predict(test_value))"
   ]
  },
  {
   "cell_type": "code",
   "execution_count": 57,
   "metadata": {},
   "outputs": [],
   "source": [
    "# import matplotlib.pyplot as pyplot\n",
    "# import pickle\n",
    "# from matplotlib import style\n",
    "\n",
    "# #Save our model - write/read binary mode\n",
    "# with open (\"Studentmodel.pickle\", \"wb\") as f:\n",
    "#     pickle.dump(linear_regression, f)\n",
    "    \n",
    "# #load our model into our linear regression variable\n",
    "# pickle_in = open(\"Studentmodel.pickle\", \"rb\")\n",
    "# linear_regression = pickle.load(pickle_in)"
   ]
  },
  {
   "cell_type": "code",
   "execution_count": 58,
   "metadata": {},
   "outputs": [],
   "source": [
    "# best_accuracy = 0\n",
    "\n",
    "# #wanna choose best accuracy we can get over a period of 30 iterations\n",
    "# for _ in range(30):\n",
    "#     X_train, X_test, y_train, y_test = sklearn.model_selection.train_test_split(X, Y, test_size=0.1)\n",
    "#     linear_regression = linear_model.LinearRegression()\n",
    "\n",
    "#     linear_regression.fit(X_train, y_train)\n",
    "\n",
    "#     accuracy = linear_regression.score(X_test, y_test)\n",
    "#     print(accuracy)\n",
    "    \n",
    "#     if accuracy > best_accuracy:\n",
    "#         best_accuracy = accuracy\n",
    "#         with open (\"Studentmodel.pickle\", \"wb\") as f:\n",
    "#             pickle.dump(linear_regression, f)\n",
    "        \n",
    "# pickle_in = open(\"Studentmodel.pickle\", \"rb\")\n",
    "# linear_regression = pickle.load(pickle_in)\n",
    "\n",
    "# print(\"Coefficient:\", linear_regression.coef_)\n",
    "# print(\"Intercept:\", linear_regression.intercept_)\n",
    "\n",
    "# predictions = linear_regression.predict(X_test)\n",
    "# for i in range(len(predictions)):\n",
    "#     print(predictions[i], X_test[i], y_test[i])"
   ]
  },
  {
   "cell_type": "code",
   "execution_count": 59,
   "metadata": {},
   "outputs": [],
   "source": [
    "#Now our model will be with the highest accuracy 😱"
   ]
  },
  {
   "cell_type": "code",
   "execution_count": 62,
   "metadata": {},
   "outputs": [
    {
     "name": "stdout",
     "output_type": "stream",
     "text": [
      "Coefficient: [ 0.14547865  0.99302643 -0.21155626 -0.29569041]\n",
      "Intercept: -1.3187115910435452\n",
      "10.776998648884279 [13 11  2  1] 11\n",
      "-0.36643867982232725 [8 0 1 0] 0\n",
      "14.263324617205479 [13 14  1  0] 13\n",
      "13.058741921215173 [13 13  2  0] 13\n",
      "-0.2870376491955129 [10  0  2  0] 0\n",
      "15.335752080917946 [15 15  2  0] 16\n",
      "15.19027343415221 [14 15  2  0] 15\n",
      "18.96282358337676 [18 18  1  0] 18\n",
      "18.685189704333187 [19 18  3  0] 19\n",
      "14.833238524481825 [13 15  3  0] 15\n",
      "8.71627786471428 [9 9 1 0] 9\n",
      "9.643226681661014 [10 10  2  0] 10\n",
      "10.7817317615124 [11 11  2  0] 11\n",
      "10.843076265023198 [12 11  1  1] 12\n",
      "7.802652462255443 [11  8  2  0] 8\n",
      "3.950701282404081 [5 5 2 0] 5\n",
      "8.142953579511119 [10  9  3  1] 9\n",
      "12.277271751034174 [13 12  1  0] 12\n",
      "13.058741921215173 [13 13  2  0] 13\n",
      "16.117222251098944 [15 16  3  0] 18\n",
      "16.540334776908253 [15 16  1  0] 15\n",
      "5.195161576862352 [6 7 2 3] 0\n",
      "18.60578867370637 [17 18  2  0] 18\n",
      "9.431670418756362 [10 10  3  0] 9\n",
      "9.643226681661014 [10 10  2  0] 10\n",
      "12.635629395405868 [13 13  4  0] 12\n",
      "9.5638256510342 [ 8 10  1  0] 10\n",
      "12.91326327444944 [12 13  2  0] 12\n",
      "5.48611887039382 [8 7 2 3] 0\n",
      "7.657173815489708 [10  8  2  0] 9\n",
      "19.955850016462414 [18 19  1  0] 19\n",
      "9.934183975192482 [12 10  2  0] 11\n",
      "9.06131209459808 [ 6 10  2  0] 10\n",
      "6.518668735638322 [9 7 2 0] 6\n",
      "-0.9350298523973679 [7 0 3 0] 0\n",
      "4.307736192074469 [6 5 1 0] 6\n",
      "7.282082378703304 [8 8 1 1] 8\n",
      "11.920236841363787 [12 12  2  0] 13\n",
      "14.051768354300824 [13 14  2  0] 15\n",
      "15.838265637354066 [17 15  1  0] 15\n",
      "\n",
      "Best Accuracy Model:\n",
      "0.9251508440775744\n"
     ]
    }
   ],
   "source": [
    "#No need to continuosly train the model, we saved it yea\n",
    "pickle_in = open(\"Studentmodel.pickle\", \"rb\")\n",
    "linear_regression = pickle.load(pickle_in)\n",
    "\n",
    "print(\"Coefficient:\", linear_regression.coef_)\n",
    "print(\"Intercept:\", linear_regression.intercept_)\n",
    "\n",
    "predictions = linear_regression.predict(X_test)\n",
    "for i in range(len(predictions)):\n",
    "    print(predictions[i], X_test[i], y_test[i])\n",
    "    \n",
    "print()\n",
    "print(\"Best Accuracy Model:\")\n",
    "accuracy = linear_regression.score(X_test, y_test)\n",
    "print(accuracy)"
   ]
  },
  {
   "cell_type": "code",
   "execution_count": 71,
   "metadata": {},
   "outputs": [
    {
     "data": {
      "text/plain": [
       "Text(0, 0.5, 'Label')"
      ]
     },
     "execution_count": 71,
     "metadata": {},
     "output_type": "execute_result"
    },
    {
     "data": {
      "image/png": "[encoded data removed]",
      "text/plain": [
       "<Figure size 432x288 with 1 Axes>"
      ]
     },
     "metadata": {},
     "output_type": "display_data"
    }
   ],
   "source": [
    "style.use(\"ggplot\")\n",
    "\n",
    "#plot x against y, to visualize effect of variables on the output G3 value\n",
    "_x = 'failures'\n",
    "pyplot.scatter(data[_x], data['G3'])\n",
    "pyplot.xlabel(_x + \" Input\")\n",
    "pyplot.ylabel(\"Label\")\n",
    "\n",
    "#Notice the correlation, thats why linear regression is best here"
   ]
  }
 ],
 "metadata": {
  "kernelspec": {
   "display_name": "Python 3",
   "language": "python",
   "name": "python3"
  },
  "language_info": {
   "codemirror_mode": {
    "name": "ipython",
    "version": 3
   },
   "file_extension": ".py",
   "mimetype": "text/x-python",
   "name": "python",
   "nbconvert_exporter": "python",
   "pygments_lexer": "ipython3",
   "version": "3.7.4"
  }
 },
 "nbformat": 4,
 "nbformat_minor": 4
}
