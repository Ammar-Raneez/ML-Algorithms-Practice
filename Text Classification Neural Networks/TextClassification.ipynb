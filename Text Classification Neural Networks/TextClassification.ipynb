{
 "cells": [
  {
   "cell_type": "code",
   "execution_count": 16,
   "metadata": {},
   "outputs": [],
   "source": [
    "import tensorflow as tf\n",
    "from tensorflow import keras\n",
    "import numpy as np"
   ]
  },
  {
   "cell_type": "code",
   "execution_count": 17,
   "metadata": {},
   "outputs": [],
   "source": [
    "data = keras.datasets.imdb\n",
    "#only take the 10000 most common words (more rare words could mess up the model)\n",
    "(train_data, train_labels), (test_data, test_labels) = data.load_data(num_words=88000)\n",
    "\n",
    "word_index = data.get_word_index()\n",
    "word_index = {k:(v+3) for k, v in word_index.items()}\n",
    "\n",
    "word_index['<PAD>'] = 0\n",
    "word_index['<START>'] = 1\n",
    "word_index['<UNK>'] = 2\n",
    "word_index['<UNUSED>'] = 3\n",
    "\n",
    "#make value the key (we need the int values to point at their associated words)\n",
    "reverse_word_index = dict([(value, key) for (key, value) in word_index.items()])"
   ]
  },
  {
   "cell_type": "code",
   "execution_count": 18,
   "metadata": {},
   "outputs": [
    {
     "name": "stdout",
     "output_type": "stream",
     "text": [
      "25000 25000\n"
     ]
    }
   ],
   "source": [
    "#add padding for reviews less than 250 words\n",
    "train_data = keras.preprocessing.sequence.pad_sequences(train_data, value=word_index['<PAD>'], padding='post', maxlen=250)\n",
    "test_data = keras.preprocessing.sequence.pad_sequences(test_data, value=word_index['<PAD>'], padding='post', maxlen=250)\n",
    "\n",
    "print(len(train_data), len(test_data))"
   ]
  },
  {
   "cell_type": "code",
   "execution_count": 19,
   "metadata": {},
   "outputs": [
    {
     "name": "stdout",
     "output_type": "stream",
     "text": [
      "<START>pleasegivethisoneamissbrbrkristyswansonandtherestofthecastrenderedterribleperformancestheshowisflatflatflatbrbridon'tknowhowmichaelmadisoncouldhaveallowedthisoneonhisplatehealmostseemedtoknowthiswasn'tgoingtoworkoutandhisperformancewasquitelacklustresoallyoumadisonfansgivethisamiss<PAD><PAD><PAD><PAD><PAD><PAD><PAD><PAD><PAD><PAD><PAD><PAD><PAD><PAD><PAD><PAD><PAD><PAD><PAD><PAD><PAD><PAD><PAD><PAD><PAD><PAD><PAD><PAD><PAD><PAD><PAD><PAD><PAD><PAD><PAD><PAD><PAD><PAD><PAD><PAD><PAD><PAD><PAD><PAD><PAD><PAD><PAD><PAD><PAD><PAD><PAD><PAD><PAD><PAD><PAD><PAD><PAD><PAD><PAD><PAD><PAD><PAD><PAD><PAD><PAD><PAD><PAD><PAD><PAD><PAD><PAD><PAD><PAD><PAD><PAD><PAD><PAD><PAD><PAD><PAD><PAD><PAD><PAD><PAD><PAD><PAD><PAD><PAD><PAD><PAD><PAD><PAD><PAD><PAD><PAD><PAD><PAD><PAD><PAD><PAD><PAD><PAD><PAD><PAD><PAD><PAD><PAD><PAD><PAD><PAD><PAD><PAD><PAD><PAD><PAD><PAD><PAD><PAD><PAD><PAD><PAD><PAD><PAD><PAD><PAD><PAD><PAD><PAD><PAD><PAD><PAD><PAD><PAD><PAD><PAD><PAD><PAD><PAD><PAD><PAD><PAD><PAD><PAD><PAD><PAD><PAD><PAD><PAD><PAD><PAD><PAD><PAD><PAD><PAD><PAD><PAD><PAD><PAD><PAD><PAD><PAD><PAD><PAD><PAD><PAD><PAD><PAD><PAD><PAD><PAD><PAD><PAD><PAD><PAD><PAD><PAD><PAD><PAD><PAD><PAD><PAD><PAD>\n"
     ]
    }
   ],
   "source": [
    "def decode_review(text):\n",
    "    return \"\".join([reverse_word_index.get(i, \"?\") for i in text])\n",
    "\n",
    "print(decode_review(test_data[0]))"
   ]
  },
  {
   "cell_type": "code",
   "execution_count": 20,
   "metadata": {},
   "outputs": [
    {
     "name": "stdout",
     "output_type": "stream",
     "text": [
      "Epoch 1/40\n",
      "30/30 [==============================] - 2s 79ms/step - loss: 0.6927 - accuracy: 0.5073 - val_loss: 0.6918 - val_accuracy: 0.6112\n",
      "Epoch 2/40\n",
      "30/30 [==============================] - 2s 57ms/step - loss: 0.6896 - accuracy: 0.6073 - val_loss: 0.6868 - val_accuracy: 0.7368\n",
      "Epoch 3/40\n",
      "30/30 [==============================] - 2s 66ms/step - loss: 0.6808 - accuracy: 0.7611 - val_loss: 0.6748 - val_accuracy: 0.7397\n",
      "Epoch 4/40\n",
      "30/30 [==============================] - 2s 57ms/step - loss: 0.6622 - accuracy: 0.7743 - val_loss: 0.6522 - val_accuracy: 0.7808\n",
      "Epoch 5/40\n",
      "30/30 [==============================] - 2s 67ms/step - loss: 0.6292 - accuracy: 0.8067 - val_loss: 0.6168 - val_accuracy: 0.7925\n",
      "Epoch 6/40\n",
      "30/30 [==============================] - 2s 66ms/step - loss: 0.5837 - accuracy: 0.8192 - val_loss: 0.5735 - val_accuracy: 0.8035\n",
      "Epoch 7/40\n",
      "30/30 [==============================] - 2s 71ms/step - loss: 0.5301 - accuracy: 0.8393 - val_loss: 0.5249 - val_accuracy: 0.8189\n",
      "Epoch 8/40\n",
      "30/30 [==============================] - 2s 54ms/step - loss: 0.4738 - accuracy: 0.8571 - val_loss: 0.4790 - val_accuracy: 0.8321\n",
      "Epoch 9/40\n",
      "30/30 [==============================] - 2s 60ms/step - loss: 0.4212 - accuracy: 0.8742 - val_loss: 0.4388 - val_accuracy: 0.8426\n",
      "Epoch 10/40\n",
      "30/30 [==============================] - 2s 56ms/step - loss: 0.3748 - accuracy: 0.8894 - val_loss: 0.4064 - val_accuracy: 0.8524\n",
      "Epoch 11/40\n",
      "30/30 [==============================] - 2s 72ms/step - loss: 0.3355 - accuracy: 0.9001 - val_loss: 0.3784 - val_accuracy: 0.8610\n",
      "Epoch 12/40\n",
      "30/30 [==============================] - 2s 57ms/step - loss: 0.3022 - accuracy: 0.9081 - val_loss: 0.3570 - val_accuracy: 0.8676\n",
      "Epoch 13/40\n",
      "30/30 [==============================] - 2s 58ms/step - loss: 0.2743 - accuracy: 0.9152 - val_loss: 0.3399 - val_accuracy: 0.8717\n",
      "Epoch 14/40\n",
      "30/30 [==============================] - 2s 56ms/step - loss: 0.2495 - accuracy: 0.9246 - val_loss: 0.3262 - val_accuracy: 0.8756\n",
      "Epoch 15/40\n",
      "30/30 [==============================] - 2s 55ms/step - loss: 0.2283 - accuracy: 0.9305 - val_loss: 0.3153 - val_accuracy: 0.8785\n",
      "Epoch 16/40\n",
      "30/30 [==============================] - 2s 57ms/step - loss: 0.2097 - accuracy: 0.9373 - val_loss: 0.3060 - val_accuracy: 0.8815\n",
      "Epoch 17/40\n",
      "30/30 [==============================] - 3s 86ms/step - loss: 0.1925 - accuracy: 0.9437 - val_loss: 0.2992 - val_accuracy: 0.8835\n",
      "Epoch 18/40\n",
      "30/30 [==============================] - 2s 70ms/step - loss: 0.1775 - accuracy: 0.9486 - val_loss: 0.2933 - val_accuracy: 0.8856\n",
      "Epoch 19/40\n",
      "30/30 [==============================] - 2s 72ms/step - loss: 0.1636 - accuracy: 0.9535 - val_loss: 0.2883 - val_accuracy: 0.8869\n",
      "Epoch 20/40\n",
      "30/30 [==============================] - 2s 59ms/step - loss: 0.1512 - accuracy: 0.9587 - val_loss: 0.2848 - val_accuracy: 0.8873\n",
      "Epoch 21/40\n",
      "30/30 [==============================] - 3s 91ms/step - loss: 0.1400 - accuracy: 0.9625 - val_loss: 0.2817 - val_accuracy: 0.8875ccuracy: \n",
      "Epoch 22/40\n",
      "30/30 [==============================] - 2s 71ms/step - loss: 0.1297 - accuracy: 0.9664 - val_loss: 0.2794 - val_accuracy: 0.8884\n",
      "Epoch 23/40\n",
      "30/30 [==============================] - 2s 58ms/step - loss: 0.1204 - accuracy: 0.9701 - val_loss: 0.2777 - val_accuracy: 0.8888\n",
      "Epoch 24/40\n",
      "30/30 [==============================] - 2s 76ms/step - loss: 0.1116 - accuracy: 0.9732 - val_loss: 0.2774 - val_accuracy: 0.8889\n",
      "Epoch 25/40\n",
      "30/30 [==============================] - 2s 69ms/step - loss: 0.1037 - accuracy: 0.9765 - val_loss: 0.2771 - val_accuracy: 0.8877\n",
      "Epoch 26/40\n",
      "30/30 [==============================] - 2s 78ms/step - loss: 0.0964 - accuracy: 0.9788 - val_loss: 0.2762 - val_accuracy: 0.8903\n",
      "Epoch 27/40\n",
      "30/30 [==============================] - 2s 74ms/step - loss: 0.0894 - accuracy: 0.9810 - val_loss: 0.2760 - val_accuracy: 0.8905\n",
      "Epoch 28/40\n",
      "30/30 [==============================] - 2s 79ms/step - loss: 0.0832 - accuracy: 0.9832 - val_loss: 0.2776 - val_accuracy: 0.8900\n",
      "Epoch 29/40\n",
      "30/30 [==============================] - 2s 74ms/step - loss: 0.0778 - accuracy: 0.9846 - val_loss: 0.2779 - val_accuracy: 0.8901\n",
      "Epoch 30/40\n",
      "30/30 [==============================] - 2s 81ms/step - loss: 0.0725 - accuracy: 0.9856 - val_loss: 0.2786 - val_accuracy: 0.8900\n",
      "Epoch 31/40\n",
      "30/30 [==============================] - 2s 75ms/step - loss: 0.0675 - accuracy: 0.9877 - val_loss: 0.2814 - val_accuracy: 0.8901\n",
      "Epoch 32/40\n",
      "30/30 [==============================] - 2s 65ms/step - loss: 0.0630 - accuracy: 0.9885 - val_loss: 0.2826 - val_accuracy: 0.8901\n",
      "Epoch 33/40\n",
      "30/30 [==============================] - 2s 68ms/step - loss: 0.0590 - accuracy: 0.9895 - val_loss: 0.2843 - val_accuracy: 0.8897\n",
      "Epoch 34/40\n",
      "30/30 [==============================] - 2s 65ms/step - loss: 0.0549 - accuracy: 0.9911 - val_loss: 0.2859 - val_accuracy: 0.8895\n",
      "Epoch 35/40\n",
      "30/30 [==============================] - 2s 71ms/step - loss: 0.0515 - accuracy: 0.9911 - val_loss: 0.2880 - val_accuracy: 0.8888\n",
      "Epoch 36/40\n",
      "30/30 [==============================] - 2s 66ms/step - loss: 0.0482 - accuracy: 0.9923 - val_loss: 0.2944 - val_accuracy: 0.8860\n",
      "Epoch 37/40\n",
      "30/30 [==============================] - 2s 64ms/step - loss: 0.0455 - accuracy: 0.9922 - val_loss: 0.2922 - val_accuracy: 0.8887\n",
      "Epoch 38/40\n",
      "30/30 [==============================] - 2s 63ms/step - loss: 0.0424 - accuracy: 0.9938 - val_loss: 0.2965 - val_accuracy: 0.8876\n",
      "Epoch 39/40\n",
      "30/30 [==============================] - 2s 57ms/step - loss: 0.0405 - accuracy: 0.9943 - val_loss: 0.2982 - val_accuracy: 0.8889\n",
      "Epoch 40/40\n",
      "30/30 [==============================] - 2s 63ms/step - loss: 0.0375 - accuracy: 0.9945 - val_loss: 0.3004 - val_accuracy: 0.8875\n",
      "782/782 [==============================] - 2s 3ms/step - loss: 0.3350 - accuracy: 0.8721\n",
      "[0.33496516942977905, 0.8720800280570984]\n"
     ]
    }
   ],
   "source": [
    "model = keras.Sequential()\n",
    "model.add(keras.layers.Embedding(88000, 16))\n",
    "model.add(keras.layers.GlobalAveragePooling1D())\n",
    "model.add(keras.layers.Dense(16, activation='relu'))\n",
    "model.add(keras.layers.Dense(1, activation='sigmoid'))\n",
    "\n",
    "model.compile(optimizer='adam', loss='binary_crossentropy', metrics=['accuracy'])\n",
    "\n",
    "x_val = train_data[:10000]\n",
    "x_train = train_data[10000:]\n",
    "y_val = train_labels[:10000]\n",
    "y_train = train_labels[10000:]\n",
    "\n",
    "fit_model = model.fit(x_train, y_train, epochs=40, batch_size=512, verbose=1, validation_data=(x_val, y_val))\n",
    "results = model.evaluate(test_data, test_labels)\n",
    "\n",
    "print(results)"
   ]
  },
  {
   "cell_type": "code",
   "execution_count": 21,
   "metadata": {},
   "outputs": [
    {
     "name": "stdout",
     "output_type": "stream",
     "text": [
      "Review: \n",
      "<START>pleasegivethisoneamissbrbrkristyswansonandtherestofthecastrenderedterribleperformancestheshowisflatflatflatbrbridon'tknowhowmichaelmadisoncouldhaveallowedthisoneonhisplatehealmostseemedtoknowthiswasn'tgoingtoworkoutandhisperformancewasquitelacklustresoallyoumadisonfansgivethisamiss<PAD><PAD><PAD><PAD><PAD><PAD><PAD><PAD><PAD><PAD><PAD><PAD><PAD><PAD><PAD><PAD><PAD><PAD><PAD><PAD><PAD><PAD><PAD><PAD><PAD><PAD><PAD><PAD><PAD><PAD><PAD><PAD><PAD><PAD><PAD><PAD><PAD><PAD><PAD><PAD><PAD><PAD><PAD><PAD><PAD><PAD><PAD><PAD><PAD><PAD><PAD><PAD><PAD><PAD><PAD><PAD><PAD><PAD><PAD><PAD><PAD><PAD><PAD><PAD><PAD><PAD><PAD><PAD><PAD><PAD><PAD><PAD><PAD><PAD><PAD><PAD><PAD><PAD><PAD><PAD><PAD><PAD><PAD><PAD><PAD><PAD><PAD><PAD><PAD><PAD><PAD><PAD><PAD><PAD><PAD><PAD><PAD><PAD><PAD><PAD><PAD><PAD><PAD><PAD><PAD><PAD><PAD><PAD><PAD><PAD><PAD><PAD><PAD><PAD><PAD><PAD><PAD><PAD><PAD><PAD><PAD><PAD><PAD><PAD><PAD><PAD><PAD><PAD><PAD><PAD><PAD><PAD><PAD><PAD><PAD><PAD><PAD><PAD><PAD><PAD><PAD><PAD><PAD><PAD><PAD><PAD><PAD><PAD><PAD><PAD><PAD><PAD><PAD><PAD><PAD><PAD><PAD><PAD><PAD><PAD><PAD><PAD><PAD><PAD><PAD><PAD><PAD><PAD><PAD><PAD><PAD><PAD><PAD><PAD><PAD><PAD><PAD><PAD><PAD><PAD><PAD><PAD>\n",
      "Prediction: [5.9995104e-18]\n",
      "Actual: 0\n",
      "[0.33496516942977905, 0.8720800280570984]\n"
     ]
    }
   ],
   "source": [
    "test_review = test_data[0]\n",
    "predict = model.predict([test_review])\n",
    "print(\"Review: \")\n",
    "print(decode_review(test_review))\n",
    "print(\"Prediction: \" + str(predict[0]))\n",
    "print(\"Actual: \" + str(test_labels[0]))\n",
    "print(results)"
   ]
  },
  {
   "cell_type": "code",
   "execution_count": 22,
   "metadata": {},
   "outputs": [],
   "source": [
    "model.save(\"model.h5\")"
   ]
  },
  {
   "cell_type": "code",
   "execution_count": 24,
   "metadata": {},
   "outputs": [
    {
     "ename": "ValueError",
     "evalue": "`sequences` must be a list of iterables. Found non-iterable: None",
     "output_type": "error",
     "traceback": [
      "\u001b[1;31m---------------------------------------------------------------------------\u001b[0m",
      "\u001b[1;31mTypeError\u001b[0m                                 Traceback (most recent call last)",
      "\u001b[1;32mc:\\users\\ammuuu\\appdata\\local\\programs\\python\\python37\\lib\\site-packages\\keras_preprocessing\\sequence.py\u001b[0m in \u001b[0;36mpad_sequences\u001b[1;34m(sequences, maxlen, dtype, padding, truncating, value)\u001b[0m\n\u001b[0;32m     67\u001b[0m         \u001b[1;32mtry\u001b[0m\u001b[1;33m:\u001b[0m\u001b[1;33m\u001b[0m\u001b[1;33m\u001b[0m\u001b[0m\n\u001b[1;32m---> 68\u001b[1;33m             \u001b[0mlengths\u001b[0m\u001b[1;33m.\u001b[0m\u001b[0mappend\u001b[0m\u001b[1;33m(\u001b[0m\u001b[0mlen\u001b[0m\u001b[1;33m(\u001b[0m\u001b[0mx\u001b[0m\u001b[1;33m)\u001b[0m\u001b[1;33m)\u001b[0m\u001b[1;33m\u001b[0m\u001b[1;33m\u001b[0m\u001b[0m\n\u001b[0m\u001b[0;32m     69\u001b[0m             \u001b[1;32mif\u001b[0m \u001b[0mflag\u001b[0m \u001b[1;32mand\u001b[0m \u001b[0mlen\u001b[0m\u001b[1;33m(\u001b[0m\u001b[0mx\u001b[0m\u001b[1;33m)\u001b[0m\u001b[1;33m:\u001b[0m\u001b[1;33m\u001b[0m\u001b[1;33m\u001b[0m\u001b[0m\n",
      "\u001b[1;31mTypeError\u001b[0m: object of type 'NoneType' has no len()",
      "\nDuring handling of the above exception, another exception occurred:\n",
      "\u001b[1;31mValueError\u001b[0m                                Traceback (most recent call last)",
      "\u001b[1;32m<ipython-input-24-969b87672d57>\u001b[0m in \u001b[0;36m<module>\u001b[1;34m\u001b[0m\n\u001b[0;32m     14\u001b[0m         \u001b[0mnline\u001b[0m \u001b[1;33m=\u001b[0m \u001b[0mline\u001b[0m\u001b[1;33m.\u001b[0m\u001b[0mreplace\u001b[0m\u001b[1;33m(\u001b[0m\u001b[1;34m\",\"\u001b[0m\u001b[1;33m,\u001b[0m \u001b[1;34m\"\"\u001b[0m\u001b[1;33m)\u001b[0m\u001b[1;33m.\u001b[0m\u001b[0mreplace\u001b[0m\u001b[1;33m(\u001b[0m\u001b[1;34m\"(\"\u001b[0m\u001b[1;33m,\u001b[0m \u001b[1;34m\"\"\u001b[0m\u001b[1;33m)\u001b[0m\u001b[1;33m.\u001b[0m\u001b[0mreplace\u001b[0m\u001b[1;33m(\u001b[0m\u001b[1;34m\")\"\u001b[0m\u001b[1;33m,\u001b[0m \u001b[1;34m\"\"\u001b[0m\u001b[1;33m)\u001b[0m\u001b[1;33m.\u001b[0m\u001b[0mreplace\u001b[0m\u001b[1;33m(\u001b[0m\u001b[1;34m\":\"\u001b[0m\u001b[1;33m,\u001b[0m \u001b[1;34m\"\"\u001b[0m\u001b[1;33m)\u001b[0m\u001b[1;33m.\u001b[0m\u001b[0mstrip\u001b[0m\u001b[1;33m(\u001b[0m\u001b[1;33m)\u001b[0m\u001b[1;33m\u001b[0m\u001b[1;33m\u001b[0m\u001b[0m\n\u001b[0;32m     15\u001b[0m         \u001b[0mencode\u001b[0m \u001b[1;33m=\u001b[0m \u001b[0mreview_encode\u001b[0m\u001b[1;33m(\u001b[0m\u001b[0mnline\u001b[0m\u001b[1;33m)\u001b[0m\u001b[1;33m\u001b[0m\u001b[1;33m\u001b[0m\u001b[0m\n\u001b[1;32m---> 16\u001b[1;33m         \u001b[0mencode\u001b[0m \u001b[1;33m=\u001b[0m \u001b[0mkeras\u001b[0m\u001b[1;33m.\u001b[0m\u001b[0mpreprocessing\u001b[0m\u001b[1;33m.\u001b[0m\u001b[0msequence\u001b[0m\u001b[1;33m.\u001b[0m\u001b[0mpad_sequences\u001b[0m\u001b[1;33m(\u001b[0m\u001b[1;33m[\u001b[0m\u001b[0mencode\u001b[0m\u001b[1;33m]\u001b[0m\u001b[1;33m,\u001b[0m \u001b[0mvalue\u001b[0m\u001b[1;33m=\u001b[0m\u001b[0mword_index\u001b[0m\u001b[1;33m[\u001b[0m\u001b[1;34m'<PAD>'\u001b[0m\u001b[1;33m]\u001b[0m\u001b[1;33m,\u001b[0m \u001b[0mpadding\u001b[0m\u001b[1;33m=\u001b[0m\u001b[1;34m'post'\u001b[0m\u001b[1;33m,\u001b[0m \u001b[0mmaxlen\u001b[0m\u001b[1;33m=\u001b[0m\u001b[1;36m250\u001b[0m\u001b[1;33m)\u001b[0m\u001b[1;33m\u001b[0m\u001b[1;33m\u001b[0m\u001b[0m\n\u001b[0m\u001b[0;32m     17\u001b[0m         \u001b[0mpredict\u001b[0m \u001b[1;33m=\u001b[0m \u001b[0mmodel\u001b[0m\u001b[1;33m.\u001b[0m\u001b[0mpredict\u001b[0m\u001b[1;33m(\u001b[0m\u001b[0mencode\u001b[0m\u001b[1;33m)\u001b[0m\u001b[1;33m\u001b[0m\u001b[1;33m\u001b[0m\u001b[0m\n\u001b[0;32m     18\u001b[0m         \u001b[0mprint\u001b[0m\u001b[1;33m(\u001b[0m\u001b[0mline\u001b[0m\u001b[1;33m)\u001b[0m\u001b[1;33m\u001b[0m\u001b[1;33m\u001b[0m\u001b[0m\n",
      "\u001b[1;32mc:\\users\\ammuuu\\appdata\\local\\programs\\python\\python37\\lib\\site-packages\\tensorflow\\python\\keras\\preprocessing\\sequence.py\u001b[0m in \u001b[0;36mpad_sequences\u001b[1;34m(sequences, maxlen, dtype, padding, truncating, value)\u001b[0m\n\u001b[0;32m    156\u001b[0m   return sequence.pad_sequences(\n\u001b[0;32m    157\u001b[0m       \u001b[0msequences\u001b[0m\u001b[1;33m,\u001b[0m \u001b[0mmaxlen\u001b[0m\u001b[1;33m=\u001b[0m\u001b[0mmaxlen\u001b[0m\u001b[1;33m,\u001b[0m \u001b[0mdtype\u001b[0m\u001b[1;33m=\u001b[0m\u001b[0mdtype\u001b[0m\u001b[1;33m,\u001b[0m\u001b[1;33m\u001b[0m\u001b[1;33m\u001b[0m\u001b[0m\n\u001b[1;32m--> 158\u001b[1;33m       padding=padding, truncating=truncating, value=value)\n\u001b[0m\u001b[0;32m    159\u001b[0m \u001b[1;33m\u001b[0m\u001b[0m\n\u001b[0;32m    160\u001b[0m keras_export(\n",
      "\u001b[1;32mc:\\users\\ammuuu\\appdata\\local\\programs\\python\\python37\\lib\\site-packages\\keras_preprocessing\\sequence.py\u001b[0m in \u001b[0;36mpad_sequences\u001b[1;34m(sequences, maxlen, dtype, padding, truncating, value)\u001b[0m\n\u001b[0;32m     72\u001b[0m         \u001b[1;32mexcept\u001b[0m \u001b[0mTypeError\u001b[0m\u001b[1;33m:\u001b[0m\u001b[1;33m\u001b[0m\u001b[1;33m\u001b[0m\u001b[0m\n\u001b[0;32m     73\u001b[0m             raise ValueError('`sequences` must be a list of iterables. '\n\u001b[1;32m---> 74\u001b[1;33m                              'Found non-iterable: ' + str(x))\n\u001b[0m\u001b[0;32m     75\u001b[0m \u001b[1;33m\u001b[0m\u001b[0m\n\u001b[0;32m     76\u001b[0m     \u001b[1;32mif\u001b[0m \u001b[0mmaxlen\u001b[0m \u001b[1;32mis\u001b[0m \u001b[1;32mNone\u001b[0m\u001b[1;33m:\u001b[0m\u001b[1;33m\u001b[0m\u001b[1;33m\u001b[0m\u001b[0m\n",
      "\u001b[1;31mValueError\u001b[0m: `sequences` must be a list of iterables. Found non-iterable: None"
     ]
    }
   ],
   "source": [
    "#testing your own reviews\n",
    "model = keras.models.load_model(\"model.h5\")\n",
    "\n",
    "def review_encode(s):\n",
    "    encoded = [1]\n",
    "    for word in s:\n",
    "        if word in word_index:\n",
    "            encoded.append(word_index[word])\n",
    "        else:\n",
    "            encoded.append(2)\n",
    "\n",
    "with open(\"review.txt\") as f:\n",
    "    for line in f.readlines():\n",
    "        nline = line.replace(\",\", \"\").replace(\"(\", \"\").replace(\")\", \"\").replace(\":\", \"\").strip()\n",
    "        encode = review_encode(nline)\n",
    "        encode = keras.preprocessing.sequence.pad_sequences([encode], value=word_index['<PAD>'], padding='post', maxlen=250)\n",
    "        predict = model.predict(encode)\n",
    "        print(line)\n",
    "        print(encode)\n",
    "        print(predict[0])"
   ]
  },
  {
   "cell_type": "code",
   "execution_count": null,
   "metadata": {},
   "outputs": [],
   "source": []
  }
 ],
 "metadata": {
  "kernelspec": {
   "display_name": "Python 3",
   "language": "python",
   "name": "python3"
  },
  "language_info": {
   "codemirror_mode": {
    "name": "ipython",
    "version": 3
   },
   "file_extension": ".py",
   "mimetype": "text/x-python",
   "name": "python",
   "nbconvert_exporter": "python",
   "pygments_lexer": "ipython3",
   "version": "3.7.4"
  }
 },
 "nbformat": 4,
 "nbformat_minor": 4
}
