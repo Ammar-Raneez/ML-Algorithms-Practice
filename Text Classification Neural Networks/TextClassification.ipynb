{
 "cells": [
  {
   "cell_type": "code",
   "execution_count": 1,
   "metadata": {},
   "outputs": [],
   "source": [
    "import tensorflow as tf\n",
    "from tensorflow import keras\n",
    "import numpy as np"
   ]
  },
  {
   "cell_type": "code",
   "execution_count": 3,
   "metadata": {},
   "outputs": [],
   "source": [
    "data = keras.datasets.imdb\n",
    "#only take the 10000 most common words (more rare words could mess up the model)\n",
    "(train_data, train_labels), (test_data, test_labels) = data.load_data(num_words=10000)\n",
    "\n",
    "word_index = data.get_word_index()\n",
    "word_index = {k:(v+3) for k, v in word_index.items()}\n",
    "\n",
    "word_index['<PAD>'] = 0\n",
    "word_index['<START>'] = 1\n",
    "word_index['<UNK>'] = 2\n",
    "word_index['<UNUSED>'] = 3\n",
    "\n",
    "#make value the key (we need the int values to point at their associated words)\n",
    "reverse_word_index = dict([(value, key) for (key, value) in word_index.items()])"
   ]
  },
  {
   "cell_type": "code",
   "execution_count": 6,
   "metadata": {},
   "outputs": [
    {
     "name": "stdout",
     "output_type": "stream",
     "text": [
      "25000 25000\n"
     ]
    }
   ],
   "source": [
    "#add padding for reviews less than 250 words\n",
    "train_data = keras.preprocessing.sequence.pad_sequences(train_data, value=word_index['<PAD>'], padding='post', maxlen=250)\n",
    "test_data = keras.preprocessing.sequence.pad_sequences(test_data, value=word_index['<PAD>'], padding='post', maxlen=250)\n",
    "\n",
    "print(len(train_data), len(test_data))"
   ]
  },
  {
   "cell_type": "code",
   "execution_count": 4,
   "metadata": {},
   "outputs": [
    {
     "name": "stdout",
     "output_type": "stream",
     "text": [
      "<START>pleasegivethisoneamissbrbr<UNK><UNK>andtherestofthecastrenderedterribleperformancestheshowisflatflatflatbrbridon'tknowhowmichaelmadisoncouldhaveallowedthisoneonhisplatehealmostseemedtoknowthiswasn'tgoingtoworkoutandhisperformancewasquite<UNK>soallyoumadisonfansgivethisamiss\n"
     ]
    }
   ],
   "source": [
    "def decode_review(text):\n",
    "    return \"\".join([reverse_word_index.get(i, \"?\") for i in text])\n",
    "\n",
    "print(decode_review(test_data[0]))"
   ]
  },
  {
   "cell_type": "code",
   "execution_count": 8,
   "metadata": {},
   "outputs": [
    {
     "name": "stdout",
     "output_type": "stream",
     "text": [
      "Epoch 1/40\n",
      "30/30 [==============================] - 2s 68ms/step - loss: 0.6918 - accuracy: 0.5159 - val_loss: 0.6898 - val_accuracy: 0.5315\n",
      "Epoch 2/40\n",
      "30/30 [==============================] - 2s 53ms/step - loss: 0.6857 - accuracy: 0.5720 - val_loss: 0.6819 - val_accuracy: 0.6069\n",
      "Epoch 3/40\n",
      "30/30 [==============================] - 2s 57ms/step - loss: 0.6733 - accuracy: 0.6557 - val_loss: 0.6674 - val_accuracy: 0.6196\n",
      "Epoch 4/40\n",
      "30/30 [==============================] - 2s 54ms/step - loss: 0.6524 - accuracy: 0.6927 - val_loss: 0.6443 - val_accuracy: 0.7000\n",
      "Epoch 5/40\n",
      "30/30 [==============================] - 2s 60ms/step - loss: 0.6235 - accuracy: 0.7453 - val_loss: 0.6145 - val_accuracy: 0.7641\n",
      "Epoch 6/40\n",
      "30/30 [==============================] - 1s 42ms/step - loss: 0.5880 - accuracy: 0.7889 - val_loss: 0.5811 - val_accuracy: 0.7897\n",
      "Epoch 7/40\n",
      "30/30 [==============================] - 1s 48ms/step - loss: 0.5496 - accuracy: 0.8212 - val_loss: 0.5456 - val_accuracy: 0.8117\n",
      "Epoch 8/40\n",
      "30/30 [==============================] - 1s 48ms/step - loss: 0.5100 - accuracy: 0.8465 - val_loss: 0.5104 - val_accuracy: 0.8357\n",
      "Epoch 9/40\n",
      "30/30 [==============================] - 1s 48ms/step - loss: 0.4717 - accuracy: 0.8622 - val_loss: 0.4778 - val_accuracy: 0.8436\n",
      "Epoch 10/40\n",
      "30/30 [==============================] - 1s 44ms/step - loss: 0.4357 - accuracy: 0.8739 - val_loss: 0.4476 - val_accuracy: 0.8528\n",
      "Epoch 11/40\n",
      "30/30 [==============================] - 1s 39ms/step - loss: 0.4028 - accuracy: 0.8835 - val_loss: 0.4216 - val_accuracy: 0.8573\n",
      "Epoch 12/40\n",
      "30/30 [==============================] - 1s 40ms/step - loss: 0.3729 - accuracy: 0.8908 - val_loss: 0.3986 - val_accuracy: 0.8625\n",
      "Epoch 13/40\n",
      "30/30 [==============================] - 1s 46ms/step - loss: 0.3463 - accuracy: 0.8975 - val_loss: 0.3778 - val_accuracy: 0.8703\n",
      "Epoch 14/40\n",
      "30/30 [==============================] - 1s 41ms/step - loss: 0.3226 - accuracy: 0.9035 - val_loss: 0.3610 - val_accuracy: 0.8727\n",
      "Epoch 15/40\n",
      "30/30 [==============================] - 1s 40ms/step - loss: 0.3014 - accuracy: 0.9083 - val_loss: 0.3466 - val_accuracy: 0.8750\n",
      "Epoch 16/40\n",
      "30/30 [==============================] - 1s 41ms/step - loss: 0.2828 - accuracy: 0.9145 - val_loss: 0.3348 - val_accuracy: 0.8776\n",
      "Epoch 17/40\n",
      "30/30 [==============================] - 1s 43ms/step - loss: 0.2661 - accuracy: 0.9188 - val_loss: 0.3249 - val_accuracy: 0.8782\n",
      "Epoch 18/40\n",
      "30/30 [==============================] - 1s 42ms/step - loss: 0.2511 - accuracy: 0.9221 - val_loss: 0.3165 - val_accuracy: 0.8804\n",
      "Epoch 19/40\n",
      "30/30 [==============================] - 1s 42ms/step - loss: 0.2376 - accuracy: 0.9241 - val_loss: 0.3095 - val_accuracy: 0.8825\n",
      "Epoch 20/40\n",
      "30/30 [==============================] - 1s 40ms/step - loss: 0.2254 - accuracy: 0.9288 - val_loss: 0.3037 - val_accuracy: 0.8824\n",
      "Epoch 21/40\n",
      "30/30 [==============================] - 1s 42ms/step - loss: 0.2142 - accuracy: 0.9321 - val_loss: 0.3002 - val_accuracy: 0.8832\n",
      "Epoch 22/40\n",
      "30/30 [==============================] - 1s 43ms/step - loss: 0.2042 - accuracy: 0.9362 - val_loss: 0.2955 - val_accuracy: 0.8842\n",
      "Epoch 23/40\n",
      "30/30 [==============================] - 1s 42ms/step - loss: 0.1949 - accuracy: 0.9401 - val_loss: 0.2928 - val_accuracy: 0.8848\n",
      "Epoch 24/40\n",
      "30/30 [==============================] - 1s 42ms/step - loss: 0.1858 - accuracy: 0.9437 - val_loss: 0.2917 - val_accuracy: 0.8843\n",
      "Epoch 25/40\n",
      "30/30 [==============================] - 1s 43ms/step - loss: 0.1782 - accuracy: 0.9459 - val_loss: 0.2891 - val_accuracy: 0.8852\n",
      "Epoch 26/40\n",
      "30/30 [==============================] - 1s 38ms/step - loss: 0.1705 - accuracy: 0.9493 - val_loss: 0.2875 - val_accuracy: 0.8866\n",
      "Epoch 27/40\n",
      "30/30 [==============================] - 1s 49ms/step - loss: 0.1629 - accuracy: 0.9523 - val_loss: 0.2877 - val_accuracy: 0.8857\n",
      "Epoch 28/40\n",
      "30/30 [==============================] - 1s 45ms/step - loss: 0.1562 - accuracy: 0.9544 - val_loss: 0.2879 - val_accuracy: 0.8851\n",
      "Epoch 29/40\n",
      "30/30 [==============================] - 1s 40ms/step - loss: 0.1502 - accuracy: 0.9566 - val_loss: 0.2878 - val_accuracy: 0.8844\n",
      "Epoch 30/40\n",
      "30/30 [==============================] - 1s 40ms/step - loss: 0.1441 - accuracy: 0.9592 - val_loss: 0.2872 - val_accuracy: 0.8852\n",
      "Epoch 31/40\n",
      "30/30 [==============================] - 1s 41ms/step - loss: 0.1386 - accuracy: 0.9607 - val_loss: 0.2888 - val_accuracy: 0.8868\n",
      "Epoch 32/40\n",
      "30/30 [==============================] - 1s 50ms/step - loss: 0.1332 - accuracy: 0.9633 - val_loss: 0.2887 - val_accuracy: 0.8854\n",
      "Epoch 33/40\n",
      "30/30 [==============================] - 1s 45ms/step - loss: 0.1277 - accuracy: 0.9655 - val_loss: 0.2900 - val_accuracy: 0.8852\n",
      "Epoch 34/40\n",
      "30/30 [==============================] - 1s 49ms/step - loss: 0.1224 - accuracy: 0.9674 - val_loss: 0.2935 - val_accuracy: 0.8852\n",
      "Epoch 35/40\n",
      "30/30 [==============================] - 1s 45ms/step - loss: 0.1178 - accuracy: 0.9689 - val_loss: 0.2932 - val_accuracy: 0.8844\n",
      "Epoch 36/40\n",
      "30/30 [==============================] - 1s 40ms/step - loss: 0.1134 - accuracy: 0.9701 - val_loss: 0.2950 - val_accuracy: 0.8840\n",
      "Epoch 37/40\n",
      "30/30 [==============================] - 1s 43ms/step - loss: 0.1092 - accuracy: 0.9721 - val_loss: 0.2983 - val_accuracy: 0.8837\n",
      "Epoch 38/40\n",
      "30/30 [==============================] - 1s 48ms/step - loss: 0.1053 - accuracy: 0.9737 - val_loss: 0.3008 - val_accuracy: 0.8834\n",
      "Epoch 39/40\n",
      "30/30 [==============================] - 2s 51ms/step - loss: 0.1014 - accuracy: 0.9751 - val_loss: 0.3028 - val_accuracy: 0.8831\n",
      "Epoch 40/40\n",
      "30/30 [==============================] - 2s 50ms/step - loss: 0.0977 - accuracy: 0.9767 - val_loss: 0.3047 - val_accuracy: 0.8822\n",
      "782/782 [==============================] - 2s 2ms/step - loss: 0.3243 - accuracy: 0.8719\n",
      "[0.32429054379463196, 0.8718799948692322]\n"
     ]
    }
   ],
   "source": [
    "model = keras.Sequential()\n",
    "model.add(keras.layers.Embedding(10000, 16))\n",
    "model.add(keras.layers.GlobalAveragePooling1D())\n",
    "model.add(keras.layers.Dense(16, activation='relu'))\n",
    "model.add(keras.layers.Dense(1, activation='sigmoid'))\n",
    "\n",
    "model.compile(optimizer='adam', loss='binary_crossentropy', metrics=['accuracy'])\n",
    "\n",
    "x_val = train_data[:10000]\n",
    "x_train = train_data[10000:]\n",
    "y_val = train_labels[:10000]\n",
    "y_train = train_labels[10000:]\n",
    "\n",
    "fit_model = model.fit(x_train, y_train, epochs=40, batch_size=512, verbose=1, validation_data=(x_val, y_val))\n",
    "results = model.evaluate(test_data, test_labels)\n",
    "\n",
    "print(results)"
   ]
  },
  {
   "cell_type": "code",
   "execution_count": 9,
   "metadata": {},
   "outputs": [
    {
     "name": "stdout",
     "output_type": "stream",
     "text": [
      "Review: \n",
      "<START>pleasegivethisoneamissbrbr<UNK><UNK>andtherestofthecastrenderedterribleperformancestheshowisflatflatflatbrbridon'tknowhowmichaelmadisoncouldhaveallowedthisoneonhisplatehealmostseemedtoknowthiswasn'tgoingtoworkoutandhisperformancewasquite<UNK>soallyoumadisonfansgivethisamiss<PAD><PAD><PAD><PAD><PAD><PAD><PAD><PAD><PAD><PAD><PAD><PAD><PAD><PAD><PAD><PAD><PAD><PAD><PAD><PAD><PAD><PAD><PAD><PAD><PAD><PAD><PAD><PAD><PAD><PAD><PAD><PAD><PAD><PAD><PAD><PAD><PAD><PAD><PAD><PAD><PAD><PAD><PAD><PAD><PAD><PAD><PAD><PAD><PAD><PAD><PAD><PAD><PAD><PAD><PAD><PAD><PAD><PAD><PAD><PAD><PAD><PAD><PAD><PAD><PAD><PAD><PAD><PAD><PAD><PAD><PAD><PAD><PAD><PAD><PAD><PAD><PAD><PAD><PAD><PAD><PAD><PAD><PAD><PAD><PAD><PAD><PAD><PAD><PAD><PAD><PAD><PAD><PAD><PAD><PAD><PAD><PAD><PAD><PAD><PAD><PAD><PAD><PAD><PAD><PAD><PAD><PAD><PAD><PAD><PAD><PAD><PAD><PAD><PAD><PAD><PAD><PAD><PAD><PAD><PAD><PAD><PAD><PAD><PAD><PAD><PAD><PAD><PAD><PAD><PAD><PAD><PAD><PAD><PAD><PAD><PAD><PAD><PAD><PAD><PAD><PAD><PAD><PAD><PAD><PAD><PAD><PAD><PAD><PAD><PAD><PAD><PAD><PAD><PAD><PAD><PAD><PAD><PAD><PAD><PAD><PAD><PAD><PAD><PAD><PAD><PAD><PAD><PAD><PAD><PAD><PAD><PAD><PAD><PAD><PAD><PAD><PAD><PAD><PAD><PAD><PAD><PAD>\n",
      "Prediction: [6.832102e-27]\n",
      "Actual: 0\n",
      "[0.32429054379463196, 0.8718799948692322]\n"
     ]
    }
   ],
   "source": [
    "test_review = test_data[0]\n",
    "predict = model.predict([test_review])\n",
    "print(\"Review: \")\n",
    "print(decode_review(test_review))\n",
    "print(\"Prediction: \" + str(predict[0]))\n",
    "print(\"Actual: \" + str(test_labels[0]))\n",
    "print(results)"
   ]
  },
  {
   "cell_type": "code",
   "execution_count": null,
   "metadata": {},
   "outputs": [],
   "source": []
  }
 ],
 "metadata": {
  "kernelspec": {
   "display_name": "Python 3",
   "language": "python",
   "name": "python3"
  },
  "language_info": {
   "codemirror_mode": {
    "name": "ipython",
    "version": 3
   },
   "file_extension": ".py",
   "mimetype": "text/x-python",
   "name": "python",
   "nbconvert_exporter": "python",
   "pygments_lexer": "ipython3",
   "version": "3.7.4"
  }
 },
 "nbformat": 4,
 "nbformat_minor": 4
}
